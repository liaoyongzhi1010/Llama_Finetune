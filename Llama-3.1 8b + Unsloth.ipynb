{
 "cells": [
  {
   "cell_type": "code",
   "execution_count": 1,
   "id": "d5b065b2-1506-4bfc-a0bf-f88b58efebe9",
   "metadata": {},
   "outputs": [],
   "source": [
    "# 隐藏输出\n",
    "%%capture\n",
    "# 如果你之前没有安装过 Unsloth，进行基础安装。\n",
    "!pip install unsloth\n",
    "# 目的是卸载已有的 unsloth 版本，确保不会有冲突，然后从 GitHub 安装最新的版本。\n",
    "# !pip uninstall unsloth -y && pip install --upgrade --no-cache-dir \"unsloth[colab-new] @ git+https://github.com/unslothai/unsloth.git\""
   ]
  },
  {
   "cell_type": "markdown",
   "id": "8fa9c2c3-375f-46cf-8de3-39d1b96d7df1",
   "metadata": {},
   "source": [
    "1. ### QLoRA（Quantized LoRA）：是 LoRA 的一种扩展，它通过使用量化技术（quantization）来减少模型的计算需求和内存使用。在 QLoRA 中，模型的权重被量化为 4 位（bit），从而极大地减少了存储和计算成本。这对显存有限的设备特别有利，如 GPU 内存较小的情况下运行大模型。\n",
    "2. ### 2倍加速：Unsloth 框架通过优化底层计算和数据加载流程，特别是利用量化后的权重，在不牺牲太多模型性能的情况下，将微调和推理速度提升至常规速度的 2倍。\n",
    "3. ### max_seq_length（最大序列长度）：指的是模型可以处理的输入文本的最大长度，通常以字词或 token 为单位。\n",
    "4. ### RoPE Scaling（旋转位置编码扩展）：Unsloth 采用了由 Kaiokendev 开发的一种扩展 RoPE 的方法，使得用户可以随意设置 max_seq_length，而无需担心模型在较长序列上性能下降。"
   ]
  },
  {
   "cell_type": "code",
   "execution_count": 2,
   "id": "20fa5818-353d-4c4b-af9e-6d7c3735fca3",
   "metadata": {},
   "outputs": [
    {
     "name": "stdout",
     "output_type": "stream",
     "text": [
      "==((====))==  Unsloth 2024.10.6: Fast Llama patching. Transformers = 4.44.2.\n",
      "   \\\\   /|    GPU: Tesla P40. Max memory: 22.376 GB. Platform = Linux.\n",
      "O^O/ \\_/ \\    Pytorch: 2.5.0+cu124. CUDA = 6.1. CUDA Toolkit = 12.4.\n",
      "\\        /    Bfloat16 = FALSE. FA [Xformers = 0.0.28.post2. FA2 = False]\n",
      " \"-____-\"     Free Apache license: http://github.com/unslothai/unsloth\n"
     ]
    }
   ],
   "source": [
    "# 引入库和设置参数\n",
    "import os\n",
    "from unsloth import FastLanguageModel\n",
    "import torch\n",
    "\n",
    "# 定义模型的最大序列长度和精度\n",
    "max_seq_length = 2048 # Choose any! We auto support RoPE Scaling internally!\n",
    "dtype = None # None for auto detection. Float16 for Tesla T4, V100, Bfloat16 for Ampere+\n",
    "# 启用 4-bit 量化\n",
    "load_in_4bit = True # Use 4bit quantization to reduce memory usage. Can be False.\n",
    "\n",
    "# 预先量化的 4-bit 模型列表\n",
    "# fourbit_models = [\n",
    "#     \"unsloth/Meta-Llama-3.1-8B-bnb-4bit\",      # Llama-3.1 15 trillion tokens model 2x faster!\n",
    "#     \"unsloth/Meta-Llama-3.1-8B-Instruct-bnb-4bit\",\n",
    "#     \"unsloth/Meta-Llama-3.1-70B-bnb-4bit\",\n",
    "#     \"unsloth/Meta-Llama-3.1-405B-bnb-4bit\",    # We also uploaded 4bit for 405b!\n",
    "#     \"unsloth/Mistral-Nemo-Base-2407-bnb-4bit\", # New Mistral 12b 2x faster!\n",
    "#     \"unsloth/Mistral-Nemo-Instruct-2407-bnb-4bit\",\n",
    "#     \"unsloth/mistral-7b-v0.3-bnb-4bit\",        # Mistral v3 2x faster!\n",
    "#     \"unsloth/mistral-7b-instruct-v0.3-bnb-4bit\",\n",
    "#     \"unsloth/Phi-3.5-mini-instruct\",           # Phi-3.5 2x faster!\n",
    "#     \"unsloth/Phi-3-medium-4k-instruct\",\n",
    "#     \"unsloth/gemma-2-9b-bnb-4bit\",\n",
    "#     \"unsloth/gemma-2-27b-bnb-4bit\",            # Gemma 2x faster!\n",
    "# ] # More models at https://huggingface.co/unsloth\n",
    "\n",
    "# 加载模型\n",
    "model, tokenizer = FastLanguageModel.from_pretrained(\n",
    "    model_name = \"unsloth/Meta-Llama-3.1-8B\",\n",
    "    max_seq_length = max_seq_length,\n",
    "    dtype = dtype,\n",
    "    load_in_4bit = load_in_4bit,\n",
    "    # token = \"hf_...\", # use one if using gated models like meta-llama/Llama-2-7b-hf\n",
    ")"
   ]
  },
  {
   "cell_type": "markdown",
   "id": "149c7131-89fc-4bee-af80-25d7fc233a95",
   "metadata": {},
   "source": [
    "### We now add LoRA adapters so we only need to update 1 to 10% of all parameters!"
   ]
  },
  {
   "cell_type": "code",
   "execution_count": 3,
   "id": "b7c03494-5e71-45be-8cb0-50f3210fda12",
   "metadata": {},
   "outputs": [
    {
     "name": "stderr",
     "output_type": "stream",
     "text": [
      "Unsloth 2024.10.6 patched 32 layers with 32 QKV layers, 32 O layers and 32 MLP layers.\n"
     ]
    }
   ],
   "source": [
    "model = FastLanguageModel.get_peft_model(\n",
    "    model,\n",
    "    # LoRA的秩，选择大于0的任何数字！建议使用8、16、32、64、128，较大的秩值可能会提高模型的表达能力，但也会增加计算资源的需求。\n",
    "    r = 16, # Choose any number > 0 ! Suggested 8, 16, 32, 64, 128\n",
    "    # 指定将应用LoRA适配器的模块\n",
    "    target_modules = [\"q_proj\", \"k_proj\", \"v_proj\", \"o_proj\",\n",
    "                      \"gate_proj\", \"up_proj\", \"down_proj\",],\n",
    "    # LoRA的缩放因子，用于控制适配器对模型的影响。较大的值意味着适配器的影响更大。\n",
    "    lora_alpha = 16,\n",
    "    # LoRA适配器的dropout率，设置为0可以优化性能\n",
    "    lora_dropout = 0, # Supports any, but = 0 is optimized\n",
    "    # 控制是否添加偏置，设置为\"none\"避免在 LoRA 层中添加不必要的偏置。\n",
    "    bias = \"none\",    # Supports any, but = \"none\" is optimized\n",
    "    # 启用梯度检查点，可以减少内存使用\n",
    "    use_gradient_checkpointing = \"unsloth\", # True or \"unsloth\" for very long context\n",
    "    # 随机种子，保证结果可复现\n",
    "    random_state = 3407,\n",
    "    # 是否使用秩稳定的LoRA\n",
    "    use_rslora = False,  # We support rank stabilized LoRA\n",
    "    # LoftQ配置，适用于某些特定的量化方法\n",
    "    loftq_config = None, # And LoftQ\n",
    ")"
   ]
  },
  {
   "cell_type": "markdown",
   "id": "7f4f03ba-e198-416d-aa63-b0e23ff32513",
   "metadata": {},
   "source": [
    "### Data Prep\n",
    "We now use the Alpaca dataset from [yahma](https://huggingface.co/datasets/yahma/alpaca-cleaned), which is a filtered version of 52K of the original [Alpaca dataset](https://crfm.stanford.edu/2023/03/13/alpaca.html). You can replace this code section with your own data prep.\n",
    "\n",
    "**[NOTE]** To train only on completions (ignoring the user's input) read TRL's docs [here](https://huggingface.co/docs/trl/sft_trainer#train-on-completions-only).\n",
    "\n",
    "**[NOTE]** Remember to add the **EOS_TOKEN** to the tokenized output!! Otherwise you'll get infinite generations!\n",
    "\n",
    "If you want to use the `llama-3` template for ShareGPT datasets, try our conversational [notebook](https://colab.research.google.com/drive/1XamvWYinY6FOSX9GLvnqSjjsNflxdhNc?usp=sharing).\n",
    "\n",
    "For text completions like novel writing, try this [notebook](https://colab.research.google.com/drive/1ef-tab5bhkvWmBOObepl1WgJvfvSzn5Q?usp=sharing)."
   ]
  },
  {
   "cell_type": "code",
   "execution_count": 4,
   "id": "ffc7f134-b600-4bc1-8bca-b3b8ee0450ef",
   "metadata": {},
   "outputs": [
    {
     "data": {
      "application/vnd.jupyter.widget-view+json": {
       "model_id": "d7953a3474df485a996f57c4af0195ba",
       "version_major": 2,
       "version_minor": 0
      },
      "text/plain": [
       "README.md: 0.00B [00:00, ?B/s]"
      ]
     },
     "metadata": {},
     "output_type": "display_data"
    },
    {
     "data": {
      "application/vnd.jupyter.widget-view+json": {
       "model_id": "cf094ff6a7da4c28b35fd703df633351",
       "version_major": 2,
       "version_minor": 0
      },
      "text/plain": [
       "alpaca_data_cleaned.json: 0.00B [00:00, ?B/s]"
      ]
     },
     "metadata": {},
     "output_type": "display_data"
    },
    {
     "data": {
      "application/vnd.jupyter.widget-view+json": {
       "model_id": "5e35aa2af6a543539657a542ec7f83c2",
       "version_major": 2,
       "version_minor": 0
      },
      "text/plain": [
       "Generating train split: 0 examples [00:00, ? examples/s]"
      ]
     },
     "metadata": {},
     "output_type": "display_data"
    },
    {
     "data": {
      "application/vnd.jupyter.widget-view+json": {
       "model_id": "24c81f379666470ea6e155d79cd88d8a",
       "version_major": 2,
       "version_minor": 0
      },
      "text/plain": [
       "Map:   0%|          | 0/51760 [00:00<?, ? examples/s]"
      ]
     },
     "metadata": {},
     "output_type": "display_data"
    }
   ],
   "source": [
    "# 定义一个包含指令、输入和输出的模板\n",
    "alpaca_prompt = \"\"\"Below is an instruction that describes a task, paired with an input that provides further context. Write a response that appropriately completes the request.\n",
    "\n",
    "### Instruction:\n",
    "{}\n",
    "\n",
    "### Input:\n",
    "{}\n",
    "\n",
    "### Response:\n",
    "{}\"\"\"\n",
    "\n",
    "# 获取 EOS_TOKEN，确保生成文本以结束符号结尾\n",
    "EOS_TOKEN = tokenizer.eos_token # Must add EOS_TOKEN\n",
    "\n",
    "# 定义格式化函数，将数据集中的每个样本转换为指定格式\n",
    "def formatting_prompts_func(examples):\n",
    "    # 提取指令、输入和输出\n",
    "    instructions = examples[\"instruction\"]\n",
    "    inputs       = examples[\"input\"]\n",
    "    outputs      = examples[\"output\"]\n",
    "    # 初始化一个空列表，用于存储格式化后的文本\n",
    "    texts = []\n",
    "    # 遍历每个样本，将其格式化为预定义的模板\n",
    "    for instruction, input, output in zip(instructions, inputs, outputs):\n",
    "        # Must add EOS_TOKEN, otherwise your generation will go on forever!\n",
    "        # 将指令、输入和输出填充到模板中，并添加 EOS_TOKEN\n",
    "        text = alpaca_prompt.format(instruction, input, output) + EOS_TOKEN\n",
    "        # 将格式化后的文本添加到列表中\n",
    "        texts.append(text)\n",
    "    # 返回一个包含所有文本的字典\n",
    "    return { \"text\" : texts, }\n",
    "pass\n",
    "\n",
    "# 从 datasets 库加载 Alpaca 数据集，指定使用训练集\n",
    "from datasets import load_dataset\n",
    "dataset = load_dataset(\"yahma/alpaca-cleaned\", split = \"train\")\n",
    "# 将格式化函数应用于数据集，以批量处理样本\n",
    "dataset = dataset.map(formatting_prompts_func, batched = True,)"
   ]
  },
  {
   "cell_type": "markdown",
   "id": "8fa55f3d-a55e-4e7a-88d0-5088b3de6c6b",
   "metadata": {},
   "source": [
    "<a name=\"Train\"></a>\n",
    "### Train the model\n",
    "Now let's use Huggingface TRL's `SFTTrainer`! More docs here: [TRL SFT docs](https://huggingface.co/docs/trl/sft_trainer). We do 60 steps to speed things up, but you can set `num_train_epochs=1` for a full run, and turn off `max_steps=None`. We also support TRL's `DPOTrainer`!"
   ]
  },
  {
   "cell_type": "code",
   "execution_count": 6,
   "id": "ace951b7-2deb-4e99-b2c0-cdc13ecee31d",
   "metadata": {},
   "outputs": [
    {
     "data": {
      "application/vnd.jupyter.widget-view+json": {
       "model_id": "a0d053f5ecaa4c78bf0a1b5515fd5607",
       "version_major": 2,
       "version_minor": 0
      },
      "text/plain": [
       "Map (num_proc=2):   0%|          | 0/51760 [00:00<?, ? examples/s]"
      ]
     },
     "metadata": {},
     "output_type": "display_data"
    },
    {
     "name": "stderr",
     "output_type": "stream",
     "text": [
      "max_steps is given, it will override any value given in num_train_epochs\n"
     ]
    }
   ],
   "source": [
    "from trl import SFTTrainer\n",
    "from transformers import TrainingArguments\n",
    "from unsloth import is_bfloat16_supported\n",
    "import time\n",
    "\n",
    "# 创建 SFTTrainer 实例\n",
    "trainer = SFTTrainer(\n",
    "    model=model,  # 被训练的模型\n",
    "    tokenizer=tokenizer,  # 对应的分词器\n",
    "    train_dataset=dataset,  # 训练数据集\n",
    "    dataset_text_field=\"text\",  # 数据集中使用的文本字段\n",
    "    max_seq_length=max_seq_length,  # 最大序列长度\n",
    "    dataset_num_proc=2,  # 数据处理时的并行进程数\n",
    "    packing=False,  # 短序列训练时是否启用打包以加快速度\n",
    "    args=TrainingArguments(  # 训练参数配置\n",
    "        per_device_train_batch_size=2,  # 每个设备的训练批量大小\n",
    "        gradient_accumulation_steps=4,  # 梯度累积步骤\n",
    "        warmup_steps=5,  # 预热步骤\n",
    "        max_steps=60,  # 最大训练步骤\n",
    "        learning_rate=2e-4,  # 学习率\n",
    "        fp16=not is_bfloat16_supported(),  # 使用 FP16 精度\n",
    "        bf16=is_bfloat16_supported(),  # 使用 BF16 精度（如果支持）\n",
    "        logging_steps=1,  # 日志记录的步骤频率\n",
    "        optim=\"adamw_8bit\",  # 使用的优化器\n",
    "        weight_decay=0.01,  # 权重衰减\n",
    "        lr_scheduler_type=\"linear\",  # 学习率调度类型\n",
    "        seed=3407,  # 随机种子\n",
    "        output_dir=\"outputs\",  # 输出目录\n",
    "        report_to=\"none\",  # 报告到 WandB 等工具\n",
    "    ),\n",
    ")"
   ]
  },
  {
   "cell_type": "markdown",
   "id": "dc5bddd7-e50a-4c9e-bb8f-a6f07ebc3a34",
   "metadata": {},
   "source": [
    "### Show current memory stats"
   ]
  },
  {
   "cell_type": "code",
   "execution_count": 7,
   "id": "4088fb6f-e8f0-44b3-8151-debf1402d75c",
   "metadata": {},
   "outputs": [
    {
     "name": "stdout",
     "output_type": "stream",
     "text": [
      "GPU = Tesla P40. Max memory = 22.376 GB.\n",
      "11.654 GB of memory reserved.\n"
     ]
    }
   ],
   "source": [
    "#@title Show current memory stats\n",
    "# 获取当前设备（GPU 0）的属性\n",
    "gpu_stats = torch.cuda.get_device_properties(0)\n",
    "\n",
    "# 获取当前训练过程已保留的最大 GPU 内存，并转换为 GB\n",
    "start_gpu_memory = round(torch.cuda.max_memory_reserved() / 1024 / 1024 / 1024, 3)\n",
    "\n",
    "# 获取 GPU 的总内存，并转换为 GB\n",
    "max_memory = round(gpu_stats.total_memory / 1024 / 1024 / 1024, 3)\n",
    "\n",
    "# 打印 GPU 名称和总内存\n",
    "print(f\"GPU = {gpu_stats.name}. Max memory = {max_memory} GB.\")\n",
    "\n",
    "# 打印当前已保留的 GPU 内存\n",
    "print(f\"{start_gpu_memory} GB of memory reserved.\")\n"
   ]
  },
  {
   "cell_type": "code",
   "execution_count": 12,
   "id": "df5b5df0-fa86-4fde-a4c1-15db7a0b77a0",
   "metadata": {},
   "outputs": [
    {
     "name": "stderr",
     "output_type": "stream",
     "text": [
      "==((====))==  Unsloth - 2x faster free finetuning | Num GPUs = 1\n",
      "   \\\\   /|    Num examples = 51,760 | Num Epochs = 1\n",
      "O^O/ \\_/ \\    Batch size per device = 2 | Gradient Accumulation steps = 4\n",
      "\\        /    Total batch size = 8 | Total steps = 60\n",
      " \"-____-\"     Number of trainable parameters = 41,943,040\n"
     ]
    },
    {
     "name": "stdout",
     "output_type": "stream",
     "text": [
      "**** Unsloth: Please use our fixed gradient_accumulation_steps by updating transformers, TRL and Unsloth!\n",
      "`pip install --upgrade --no-cache-dir unsloth git+https://github.com/huggingface/transformers.git git+https://github.com/huggingface/trl.git`\n"
     ]
    },
    {
     "data": {
      "text/html": [
       "\n",
       "    <div>\n",
       "      \n",
       "      <progress value='60' max='60' style='width:300px; height:20px; vertical-align: middle;'></progress>\n",
       "      [60/60 25:16, Epoch 0/1]\n",
       "    </div>\n",
       "    <table border=\"1\" class=\"dataframe\">\n",
       "  <thead>\n",
       " <tr style=\"text-align: left;\">\n",
       "      <th>Step</th>\n",
       "      <th>Training Loss</th>\n",
       "    </tr>\n",
       "  </thead>\n",
       "  <tbody>\n",
       "    <tr>\n",
       "      <td>1</td>\n",
       "      <td>0.537200</td>\n",
       "    </tr>\n",
       "    <tr>\n",
       "      <td>2</td>\n",
       "      <td>0.416300</td>\n",
       "    </tr>\n",
       "    <tr>\n",
       "      <td>3</td>\n",
       "      <td>0.590300</td>\n",
       "    </tr>\n",
       "    <tr>\n",
       "      <td>4</td>\n",
       "      <td>0.542800</td>\n",
       "    </tr>\n",
       "    <tr>\n",
       "      <td>5</td>\n",
       "      <td>0.629000</td>\n",
       "    </tr>\n",
       "    <tr>\n",
       "      <td>6</td>\n",
       "      <td>0.578700</td>\n",
       "    </tr>\n",
       "    <tr>\n",
       "      <td>7</td>\n",
       "      <td>0.453400</td>\n",
       "    </tr>\n",
       "    <tr>\n",
       "      <td>8</td>\n",
       "      <td>0.657100</td>\n",
       "    </tr>\n",
       "    <tr>\n",
       "      <td>9</td>\n",
       "      <td>0.540200</td>\n",
       "    </tr>\n",
       "    <tr>\n",
       "      <td>10</td>\n",
       "      <td>0.722300</td>\n",
       "    </tr>\n",
       "    <tr>\n",
       "      <td>11</td>\n",
       "      <td>0.631200</td>\n",
       "    </tr>\n",
       "    <tr>\n",
       "      <td>12</td>\n",
       "      <td>0.635100</td>\n",
       "    </tr>\n",
       "    <tr>\n",
       "      <td>13</td>\n",
       "      <td>0.640200</td>\n",
       "    </tr>\n",
       "    <tr>\n",
       "      <td>14</td>\n",
       "      <td>0.845500</td>\n",
       "    </tr>\n",
       "    <tr>\n",
       "      <td>15</td>\n",
       "      <td>0.601200</td>\n",
       "    </tr>\n",
       "    <tr>\n",
       "      <td>16</td>\n",
       "      <td>0.686000</td>\n",
       "    </tr>\n",
       "    <tr>\n",
       "      <td>17</td>\n",
       "      <td>0.859500</td>\n",
       "    </tr>\n",
       "    <tr>\n",
       "      <td>18</td>\n",
       "      <td>1.054700</td>\n",
       "    </tr>\n",
       "    <tr>\n",
       "      <td>19</td>\n",
       "      <td>0.851100</td>\n",
       "    </tr>\n",
       "    <tr>\n",
       "      <td>20</td>\n",
       "      <td>0.716200</td>\n",
       "    </tr>\n",
       "    <tr>\n",
       "      <td>21</td>\n",
       "      <td>0.679500</td>\n",
       "    </tr>\n",
       "    <tr>\n",
       "      <td>22</td>\n",
       "      <td>0.763600</td>\n",
       "    </tr>\n",
       "    <tr>\n",
       "      <td>23</td>\n",
       "      <td>0.732300</td>\n",
       "    </tr>\n",
       "    <tr>\n",
       "      <td>24</td>\n",
       "      <td>0.802600</td>\n",
       "    </tr>\n",
       "    <tr>\n",
       "      <td>25</td>\n",
       "      <td>0.878200</td>\n",
       "    </tr>\n",
       "    <tr>\n",
       "      <td>26</td>\n",
       "      <td>0.913400</td>\n",
       "    </tr>\n",
       "    <tr>\n",
       "      <td>27</td>\n",
       "      <td>0.937800</td>\n",
       "    </tr>\n",
       "    <tr>\n",
       "      <td>28</td>\n",
       "      <td>0.783900</td>\n",
       "    </tr>\n",
       "    <tr>\n",
       "      <td>29</td>\n",
       "      <td>0.698100</td>\n",
       "    </tr>\n",
       "    <tr>\n",
       "      <td>30</td>\n",
       "      <td>0.775300</td>\n",
       "    </tr>\n",
       "    <tr>\n",
       "      <td>31</td>\n",
       "      <td>0.805500</td>\n",
       "    </tr>\n",
       "    <tr>\n",
       "      <td>32</td>\n",
       "      <td>0.797800</td>\n",
       "    </tr>\n",
       "    <tr>\n",
       "      <td>33</td>\n",
       "      <td>0.902400</td>\n",
       "    </tr>\n",
       "    <tr>\n",
       "      <td>34</td>\n",
       "      <td>0.658300</td>\n",
       "    </tr>\n",
       "    <tr>\n",
       "      <td>35</td>\n",
       "      <td>0.877400</td>\n",
       "    </tr>\n",
       "    <tr>\n",
       "      <td>36</td>\n",
       "      <td>0.821400</td>\n",
       "    </tr>\n",
       "    <tr>\n",
       "      <td>37</td>\n",
       "      <td>0.804500</td>\n",
       "    </tr>\n",
       "    <tr>\n",
       "      <td>38</td>\n",
       "      <td>0.665900</td>\n",
       "    </tr>\n",
       "    <tr>\n",
       "      <td>39</td>\n",
       "      <td>1.031300</td>\n",
       "    </tr>\n",
       "    <tr>\n",
       "      <td>40</td>\n",
       "      <td>1.077300</td>\n",
       "    </tr>\n",
       "    <tr>\n",
       "      <td>41</td>\n",
       "      <td>0.815900</td>\n",
       "    </tr>\n",
       "    <tr>\n",
       "      <td>42</td>\n",
       "      <td>0.914800</td>\n",
       "    </tr>\n",
       "    <tr>\n",
       "      <td>43</td>\n",
       "      <td>0.853100</td>\n",
       "    </tr>\n",
       "    <tr>\n",
       "      <td>44</td>\n",
       "      <td>0.848500</td>\n",
       "    </tr>\n",
       "    <tr>\n",
       "      <td>45</td>\n",
       "      <td>0.880500</td>\n",
       "    </tr>\n",
       "    <tr>\n",
       "      <td>46</td>\n",
       "      <td>0.924000</td>\n",
       "    </tr>\n",
       "    <tr>\n",
       "      <td>47</td>\n",
       "      <td>0.786900</td>\n",
       "    </tr>\n",
       "    <tr>\n",
       "      <td>48</td>\n",
       "      <td>1.122600</td>\n",
       "    </tr>\n",
       "    <tr>\n",
       "      <td>49</td>\n",
       "      <td>0.847400</td>\n",
       "    </tr>\n",
       "    <tr>\n",
       "      <td>50</td>\n",
       "      <td>0.994400</td>\n",
       "    </tr>\n",
       "    <tr>\n",
       "      <td>51</td>\n",
       "      <td>0.925800</td>\n",
       "    </tr>\n",
       "    <tr>\n",
       "      <td>52</td>\n",
       "      <td>0.838400</td>\n",
       "    </tr>\n",
       "    <tr>\n",
       "      <td>53</td>\n",
       "      <td>0.894600</td>\n",
       "    </tr>\n",
       "    <tr>\n",
       "      <td>54</td>\n",
       "      <td>1.082300</td>\n",
       "    </tr>\n",
       "    <tr>\n",
       "      <td>55</td>\n",
       "      <td>0.723300</td>\n",
       "    </tr>\n",
       "    <tr>\n",
       "      <td>56</td>\n",
       "      <td>0.945200</td>\n",
       "    </tr>\n",
       "    <tr>\n",
       "      <td>57</td>\n",
       "      <td>0.822200</td>\n",
       "    </tr>\n",
       "    <tr>\n",
       "      <td>58</td>\n",
       "      <td>0.743600</td>\n",
       "    </tr>\n",
       "    <tr>\n",
       "      <td>59</td>\n",
       "      <td>0.752200</td>\n",
       "    </tr>\n",
       "    <tr>\n",
       "      <td>60</td>\n",
       "      <td>0.794700</td>\n",
       "    </tr>\n",
       "  </tbody>\n",
       "</table><p>"
      ],
      "text/plain": [
       "<IPython.core.display.HTML object>"
      ]
     },
     "metadata": {},
     "output_type": "display_data"
    }
   ],
   "source": [
    "trainer_stats = trainer.train()"
   ]
  },
  {
   "cell_type": "markdown",
   "id": "f2c3cc20-110a-4ffc-8708-a433cac75c32",
   "metadata": {},
   "source": [
    "### Show final memory and time stats"
   ]
  },
  {
   "cell_type": "code",
   "execution_count": 13,
   "id": "59e0369d-8bbd-4f88-a8d7-c876366fa4be",
   "metadata": {},
   "outputs": [
    {
     "name": "stdout",
     "output_type": "stream",
     "text": [
      "1542.2777 seconds used for training.\n",
      "25.7 minutes used for training.\n",
      "Peak reserved memory = 11.654 GB.\n",
      "Peak reserved memory for training = 0.0 GB.\n",
      "Peak reserved memory % of max memory = 52.083 %.\n",
      "Peak reserved memory for training % of max memory = 0.0 %.\n"
     ]
    }
   ],
   "source": [
    "#@title Show final memory and time stats\n",
    "\n",
    "# 计算并转换当前已保留的 GPU 内存为 GB\n",
    "used_memory = round(torch.cuda.max_memory_reserved() / 1024 / 1024 / 1024, 3)\n",
    "\n",
    "# 计算 LoRA 适配器使用的内存\n",
    "used_memory_for_lora = round(used_memory - start_gpu_memory, 3)\n",
    "\n",
    "# 计算已使用内存占总内存的百分比\n",
    "used_percentage = round(used_memory / max_memory * 100, 3)\n",
    "\n",
    "# 计算用于 LoRA 适配器的内存占总内存的百分比\n",
    "lora_percentage = round(used_memory_for_lora / max_memory * 100, 3)\n",
    "\n",
    "# 打印训练所用的总时间（秒）\n",
    "print(f\"{trainer_stats.metrics['train_runtime']} seconds used for training.\")\n",
    "\n",
    "# 打印训练所用的总时间（分钟）\n",
    "print(f\"{round(trainer_stats.metrics['train_runtime']/60, 2)} minutes used for training.\")\n",
    "\n",
    "# 打印训练期间的峰值保留内存\n",
    "print(f\"Peak reserved memory = {used_memory} GB.\")\n",
    "\n",
    "# 打印用于训练的峰值保留内存\n",
    "print(f\"Peak reserved memory for training = {used_memory_for_lora} GB.\")\n",
    "\n",
    "# 打印保留内存占最大内存的百分比\n",
    "print(f\"Peak reserved memory % of max memory = {used_percentage} %.\")\n",
    "\n",
    "# 打印用于训练的内存占最大内存的百分比\n",
    "print(f\"Peak reserved memory for training % of max memory = {lora_percentage} %.\")\n"
   ]
  },
  {
   "cell_type": "markdown",
   "id": "52deef57-6c35-42dc-9bc9-bcf9c95e4808",
   "metadata": {},
   "source": [
    "### Inference\n",
    "Let's run the model! You can change the instruction and input - leave the output blank!"
   ]
  },
  {
   "cell_type": "code",
   "execution_count": 14,
   "id": "24db6977-4cf6-4bf8-927c-7ab7889a59f9",
   "metadata": {},
   "outputs": [
    {
     "data": {
      "text/plain": [
       "['<|begin_of_text|>Below is an instruction that describes a task, paired with an input that provides further context. Write a response that appropriately completes the request.\\n\\n### Instruction:\\nContinue the fibonnaci sequence.\\n\\n### Input:\\n1, 1, 2, 3, 5, 8\\n\\n### Response:\\n13, 21, 34, 55, 89, 144, 233, 377, 610, 987<|end_of_text|>']"
      ]
     },
     "execution_count": 14,
     "metadata": {},
     "output_type": "execute_result"
    }
   ],
   "source": [
    "# alpaca_prompt = Copied from above\n",
    "# 启用模型进行推理，以实现更快的推理速度（2倍）\n",
    "FastLanguageModel.for_inference(model)\n",
    "\n",
    "# 使用分词器将输入数据编码为张量\n",
    "inputs = tokenizer(\n",
    "    [\n",
    "        alpaca_prompt.format(\n",
    "            \"Continue the fibonnaci sequence.\", # 指令\n",
    "            \"1, 1, 2, 3, 5, 8\", # 输入序列\n",
    "            \"\", # 输出 - 留空以进行生成!\n",
    "        )\n",
    "    ], \n",
    "    return_tensors=\"pt\" # 返回 PyTorch 格式的张量\n",
    ").to(\"cuda\") # 将数据移动到 GPU\n",
    "\n",
    "# 生成输出，最大新生成的 token 数为 64，使用缓存\n",
    "outputs = model.generate(**inputs, max_new_tokens=64, use_cache=True)\n",
    "\n",
    "# 解码生成的输出，并将其转换为可读文本\n",
    "tokenizer.batch_decode(outputs)"
   ]
  },
  {
   "cell_type": "markdown",
   "id": "9e3ef698-d4bf-4133-8ab1-70897b6c6466",
   "metadata": {},
   "source": [
    "You can also use a TextStreamer for continuous inference - so you can see the generation token by token, instead of waiting the whole time!"
   ]
  },
  {
   "cell_type": "code",
   "execution_count": 15,
   "id": "2e316051-b47a-4877-8826-25c65492ca6f",
   "metadata": {},
   "outputs": [
    {
     "name": "stdout",
     "output_type": "stream",
     "text": [
      "<|begin_of_text|>Below is an instruction that describes a task, paired with an input that provides further context. Write a response that appropriately completes the request.\n",
      "\n",
      "### Instruction:\n",
      "Continue the fibonnaci sequence.\n",
      "\n",
      "### Input:\n",
      "1, 1, 2, 3, 5, 8\n",
      "\n",
      "### Response:\n",
      "13, 21, 34, 55, 89, 144, 233, 377, 610, 987, 1597, 2584, 4181, 6765, 10946, 17711, 28657, 46368, 75025, 121393, 196418, 317811, 514229, 832040, 1346269, 2178309, 3524578, 5702887, 9227465, 14930352, 24157817, 39088169, 629145\n"
     ]
    }
   ],
   "source": [
    "# alpaca_prompt = Copied from above\n",
    "# 启用模型进行推理，以实现更快的推理速度（2倍）\n",
    "FastLanguageModel.for_inference(model)\n",
    "\n",
    "# 使用分词器将输入数据编码为张量\n",
    "inputs = tokenizer(\n",
    "    [\n",
    "        alpaca_prompt.format(\n",
    "            \"Continue the fibonnaci sequence.\", # 指令\n",
    "            \"1, 1, 2, 3, 5, 8\", # 输入序列\n",
    "            \"\", # 输出 - 留空以进行生成!\n",
    "        )\n",
    "    ], \n",
    "    return_tensors=\"pt\" # 返回 PyTorch 格式的张量\n",
    ").to(\"cuda\") # 将数据移动到 GPU\n",
    "\n",
    "# 从 transformers 导入 TextStreamer 以实现逐步生成\n",
    "from transformers import TextStreamer\n",
    "text_streamer = TextStreamer(tokenizer) # 创建 TextStreamer 实例\n",
    "\n",
    "# 使用 streamer 进行生成，以逐个 token 显示生成过程\n",
    "_ = model.generate(**inputs, streamer=text_streamer, max_new_tokens=128)"
   ]
  },
  {
   "cell_type": "markdown",
   "id": "2464f668-6ded-42f2-b521-680dfc7ac0be",
   "metadata": {},
   "source": [
    "### Saving, loading finetuned models"
   ]
  },
  {
   "cell_type": "code",
   "execution_count": 16,
   "id": "eecb5221-1c5f-4d16-b6bc-ec173540b1be",
   "metadata": {},
   "outputs": [
    {
     "data": {
      "text/plain": [
       "('lora_model/tokenizer_config.json',\n",
       " 'lora_model/special_tokens_map.json',\n",
       " 'lora_model/tokenizer.json')"
      ]
     },
     "execution_count": 16,
     "metadata": {},
     "output_type": "execute_result"
    }
   ],
   "source": [
    "# 将训练好的模型保存到本地目录 \"lora_model\"\n",
    "model.save_pretrained(\"lora_model\") \n",
    "\n",
    "# 将与模型相关的分词器保存到本地目录 \"lora_model\"\n",
    "tokenizer.save_pretrained(\"lora_model\")\n",
    "\n",
    "# 将模型推送到 Hugging Face Hub（在线保存），需要提供用户名和访问令牌\n",
    "# model.push_to_hub(\"your_name/lora_model\", token=\"...\")\n",
    "\n",
    "# 将分词器推送到 Hugging Face Hub（在线保存），需要提供用户名和访问令牌\n",
    "# tokenizer.push_to_hub(\"your_name/lora_model\", token=\"...\")"
   ]
  },
  {
   "cell_type": "markdown",
   "id": "c4204c42-cccf-4e35-a2d0-dbb27f657071",
   "metadata": {},
   "source": [
    "Now if you want to load the LoRA adapters we just saved for inference, set False to True:"
   ]
  },
  {
   "cell_type": "code",
   "execution_count": 17,
   "id": "8889970b-7110-4914-8f01-2f123e3c31dd",
   "metadata": {},
   "outputs": [
    {
     "name": "stdout",
     "output_type": "stream",
     "text": [
      "<|begin_of_text|>Below is an instruction that describes a task, paired with an input that provides further context. Write a response that appropriately completes the request.\n",
      "\n",
      "### Instruction:\n",
      "What is a famous tall tower in Paris?\n",
      "\n",
      "### Input:\n",
      "\n",
      "\n",
      "### Response:\n",
      "One of the most famous and iconic tall towers in Paris is the Eiffel Tower. Standing at a height of 324 meters (1,063 feet), it was built in 1889 for the World's Fair and was designed by the French engineer Gustave Eiffel. The tower is a symbol of Paris and is visited by millions of people each year.<|end_of_text|>\n"
     ]
    }
   ],
   "source": [
    "# 如果条件为 False，这部分代码不会被执行\n",
    "if False:\n",
    "    # 从 unsloth 导入 FastLanguageModel\n",
    "    from unsloth import FastLanguageModel\n",
    "    \n",
    "    # 从指定的目录加载训练好的模型和分词器\n",
    "    model, tokenizer = FastLanguageModel.from_pretrained(\n",
    "        model_name=\"lora_model\",  # 使用的训练模型名称\n",
    "        max_seq_length=max_seq_length,  # 设置最大序列长度\n",
    "        dtype=dtype,  # 设置数据类型\n",
    "        load_in_4bit=load_in_4bit,  # 是否以 4 位量化加载模型\n",
    "    )\n",
    "    \n",
    "    # 启用推理模式，以实现 2 倍更快的推理速度\n",
    "    FastLanguageModel.for_inference(model)\n",
    "\n",
    "# alpaca_prompt = 你必须从上面复制这一部分内容！\n",
    "\n",
    "# 使用分词器将输入数据编码为张量\n",
    "inputs = tokenizer(\n",
    "    [\n",
    "        alpaca_prompt.format(\n",
    "            \"What is a famous tall tower in Paris?\",  # 指令\n",
    "            \"\",  # 输入 - 留空以进行生成!\n",
    "            \"\",  # 输出 - 留空以进行生成!\n",
    "        )\n",
    "    ], \n",
    "    return_tensors=\"pt\"  # 返回 PyTorch 格式的张量\n",
    ").to(\"cuda\")  # 将数据移动到 GPU\n",
    "\n",
    "# 从 transformers 导入 TextStreamer 以实现逐步生成\n",
    "from transformers import TextStreamer\n",
    "text_streamer = TextStreamer(tokenizer)  # 创建 TextStreamer 实例\n",
    "\n",
    "# 使用 streamer 进行生成，以逐个 token 显示生成过程\n",
    "_ = model.generate(**inputs, streamer=text_streamer, max_new_tokens=128)"
   ]
  },
  {
   "cell_type": "markdown",
   "id": "da2f7786-5c28-4880-b3dd-2cfbe72fbc52",
   "metadata": {},
   "source": [
    "### GGUF / llama.cpp Conversion"
   ]
  },
  {
   "cell_type": "code",
   "execution_count": 18,
   "id": "a7e15b2c-76ff-47cc-8844-b9b46ca3518a",
   "metadata": {},
   "outputs": [],
   "source": [
    "# 保存为 8bit Q8_0 格式\n",
    "if False: \n",
    "    model.save_pretrained_gguf(\"model\", tokenizer)\n",
    "\n",
    "# 提醒用户访问 Hugging Face 设置页面以获取令牌，并将 hf 替换为用户名\n",
    "# And change hf to your username!\n",
    "if False: \n",
    "    model.push_to_hub_gguf(\"hf/model\", tokenizer, token = \"\")\n",
    "\n",
    "# 保存为 16bit GGUF 格式\n",
    "if False: \n",
    "    model.save_pretrained_gguf(\"model\", tokenizer, quantization_method = \"f16\")\n",
    "\n",
    "if False: \n",
    "    model.push_to_hub_gguf(\"hf/model\", tokenizer, quantization_method = \"f16\", token = \"\")\n",
    "\n",
    "# 保存为 q4_k_m GGUF 格式\n",
    "if False: \n",
    "    model.save_pretrained_gguf(\"model\", tokenizer, quantization_method = \"q4_k_m\")\n",
    "\n",
    "if False: \n",
    "    model.push_to_hub_gguf(\"hf/model\", tokenizer, quantization_method = \"q4_k_m\", token = \"\")\n",
    "\n",
    "# 使用多个 GGUF 选项进行保存 - 如果你想同时保存多个，这会更快\n",
    "if False:\n",
    "    model.push_to_hub_gguf(\n",
    "        \"hf/model\", # 将 hf 替换为你的用户名!\n",
    "        tokenizer,\n",
    "        quantization_method = [\"q4_k_m\", \"q8_0\", \"q5_k_m\"],\n",
    "        token = \"\",\n",
    "    )\n"
   ]
  }
 ],
 "metadata": {
  "kernelspec": {
   "display_name": "model_finetuning",
   "language": "python",
   "name": "model_finetuning"
  },
  "language_info": {
   "codemirror_mode": {
    "name": "ipython",
    "version": 3
   },
   "file_extension": ".py",
   "mimetype": "text/x-python",
   "name": "python",
   "nbconvert_exporter": "python",
   "pygments_lexer": "ipython3",
   "version": "3.10.15"
  }
 },
 "nbformat": 4,
 "nbformat_minor": 5
}
